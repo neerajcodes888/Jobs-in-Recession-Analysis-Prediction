{
 "cells": [
  {
   "cell_type": "code",
   "execution_count": 1,
   "metadata": {},
   "outputs": [
    {
     "name": "stderr",
     "output_type": "stream",
     "text": [
      "/tmp/ipykernel_9924/4080736814.py:1: DeprecationWarning: \n",
      "Pyarrow will become a required dependency of pandas in the next major release of pandas (pandas 3.0),\n",
      "(to allow more performant data types, such as the Arrow string type, and better interoperability with other libraries)\n",
      "but was not found to be installed on your system.\n",
      "If this would cause problems for you,\n",
      "please provide us feedback at https://github.com/pandas-dev/pandas/issues/54466\n",
      "        \n",
      "  import pandas as pd\n"
     ]
    }
   ],
   "source": [
    "import pandas as pd"
   ]
  },
  {
   "cell_type": "markdown",
   "metadata": {},
   "source": [
    "## Loading the dataset"
   ]
  },
  {
   "cell_type": "code",
   "execution_count": 2,
   "metadata": {},
   "outputs": [],
   "source": [
    "data = pd.read_csv(\"dataset.csv\")"
   ]
  },
  {
   "cell_type": "code",
   "execution_count": 13,
   "metadata": {},
   "outputs": [
    {
     "data": {
      "text/html": [
       "<div>\n",
       "<style scoped>\n",
       "    .dataframe tbody tr th:only-of-type {\n",
       "        vertical-align: middle;\n",
       "    }\n",
       "\n",
       "    .dataframe tbody tr th {\n",
       "        vertical-align: top;\n",
       "    }\n",
       "\n",
       "    .dataframe thead th {\n",
       "        text-align: right;\n",
       "    }\n",
       "</style>\n",
       "<table border=\"1\" class=\"dataframe\">\n",
       "  <thead>\n",
       "    <tr style=\"text-align: right;\">\n",
       "      <th></th>\n",
       "      <th>Year</th>\n",
       "      <th>Quarter</th>\n",
       "      <th>GDP_Growth</th>\n",
       "      <th>Inflation</th>\n",
       "      <th>Industrial_Production</th>\n",
       "      <th>Job_Market</th>\n",
       "      <th>Recession_Indicator</th>\n",
       "    </tr>\n",
       "  </thead>\n",
       "  <tbody>\n",
       "    <tr>\n",
       "      <th>0</th>\n",
       "      <td>2016</td>\n",
       "      <td>Q1</td>\n",
       "      <td>3.866202</td>\n",
       "      <td>5.795522</td>\n",
       "      <td>4.063915</td>\n",
       "      <td>72806</td>\n",
       "      <td>0</td>\n",
       "    </tr>\n",
       "    <tr>\n",
       "      <th>1</th>\n",
       "      <td>2013</td>\n",
       "      <td>Q1</td>\n",
       "      <td>6.624839</td>\n",
       "      <td>4.008880</td>\n",
       "      <td>0.301156</td>\n",
       "      <td>51465</td>\n",
       "      <td>0</td>\n",
       "    </tr>\n",
       "    <tr>\n",
       "      <th>2</th>\n",
       "      <td>2022</td>\n",
       "      <td>Q4</td>\n",
       "      <td>3.469627</td>\n",
       "      <td>6.322668</td>\n",
       "      <td>-3.622371</td>\n",
       "      <td>64109</td>\n",
       "      <td>0</td>\n",
       "    </tr>\n",
       "    <tr>\n",
       "      <th>3</th>\n",
       "      <td>2020</td>\n",
       "      <td>Q3</td>\n",
       "      <td>3.907552</td>\n",
       "      <td>1.415962</td>\n",
       "      <td>-1.309438</td>\n",
       "      <td>53528</td>\n",
       "      <td>1</td>\n",
       "    </tr>\n",
       "    <tr>\n",
       "      <th>4</th>\n",
       "      <td>2017</td>\n",
       "      <td>Q4</td>\n",
       "      <td>1.586789</td>\n",
       "      <td>1.885589</td>\n",
       "      <td>2.220974</td>\n",
       "      <td>39230</td>\n",
       "      <td>0</td>\n",
       "    </tr>\n",
       "  </tbody>\n",
       "</table>\n",
       "</div>"
      ],
      "text/plain": [
       "   Year Quarter  GDP_Growth  Inflation  Industrial_Production  Job_Market  \\\n",
       "0  2016      Q1    3.866202   5.795522               4.063915       72806   \n",
       "1  2013      Q1    6.624839   4.008880               0.301156       51465   \n",
       "2  2022      Q4    3.469627   6.322668              -3.622371       64109   \n",
       "3  2020      Q3    3.907552   1.415962              -1.309438       53528   \n",
       "4  2017      Q4    1.586789   1.885589               2.220974       39230   \n",
       "\n",
       "   Recession_Indicator  \n",
       "0                    0  \n",
       "1                    0  \n",
       "2                    0  \n",
       "3                    1  \n",
       "4                    0  "
      ]
     },
     "execution_count": 13,
     "metadata": {},
     "output_type": "execute_result"
    }
   ],
   "source": [
    "data.head()"
   ]
  },
  {
   "cell_type": "markdown",
   "metadata": {},
   "source": [
    "## Preprocessing\n"
   ]
  },
  {
   "cell_type": "code",
   "execution_count": 3,
   "metadata": {},
   "outputs": [
    {
     "data": {
      "text/html": [
       "<div>\n",
       "<style scoped>\n",
       "    .dataframe tbody tr th:only-of-type {\n",
       "        vertical-align: middle;\n",
       "    }\n",
       "\n",
       "    .dataframe tbody tr th {\n",
       "        vertical-align: top;\n",
       "    }\n",
       "\n",
       "    .dataframe thead th {\n",
       "        text-align: right;\n",
       "    }\n",
       "</style>\n",
       "<table border=\"1\" class=\"dataframe\">\n",
       "  <thead>\n",
       "    <tr style=\"text-align: right;\">\n",
       "      <th></th>\n",
       "      <th>Year</th>\n",
       "      <th>Quarter</th>\n",
       "      <th>GDP_Growth</th>\n",
       "      <th>Inflation</th>\n",
       "      <th>Industrial_Production</th>\n",
       "      <th>Job_Market</th>\n",
       "      <th>Recession_Indicator</th>\n",
       "    </tr>\n",
       "  </thead>\n",
       "  <tbody>\n",
       "    <tr>\n",
       "      <th>0</th>\n",
       "      <td>False</td>\n",
       "      <td>False</td>\n",
       "      <td>False</td>\n",
       "      <td>False</td>\n",
       "      <td>False</td>\n",
       "      <td>False</td>\n",
       "      <td>False</td>\n",
       "    </tr>\n",
       "    <tr>\n",
       "      <th>1</th>\n",
       "      <td>False</td>\n",
       "      <td>False</td>\n",
       "      <td>False</td>\n",
       "      <td>False</td>\n",
       "      <td>False</td>\n",
       "      <td>False</td>\n",
       "      <td>False</td>\n",
       "    </tr>\n",
       "    <tr>\n",
       "      <th>2</th>\n",
       "      <td>False</td>\n",
       "      <td>False</td>\n",
       "      <td>False</td>\n",
       "      <td>False</td>\n",
       "      <td>False</td>\n",
       "      <td>False</td>\n",
       "      <td>False</td>\n",
       "    </tr>\n",
       "    <tr>\n",
       "      <th>3</th>\n",
       "      <td>False</td>\n",
       "      <td>False</td>\n",
       "      <td>False</td>\n",
       "      <td>False</td>\n",
       "      <td>False</td>\n",
       "      <td>False</td>\n",
       "      <td>False</td>\n",
       "    </tr>\n",
       "    <tr>\n",
       "      <th>4</th>\n",
       "      <td>False</td>\n",
       "      <td>False</td>\n",
       "      <td>False</td>\n",
       "      <td>False</td>\n",
       "      <td>False</td>\n",
       "      <td>False</td>\n",
       "      <td>False</td>\n",
       "    </tr>\n",
       "    <tr>\n",
       "      <th>...</th>\n",
       "      <td>...</td>\n",
       "      <td>...</td>\n",
       "      <td>...</td>\n",
       "      <td>...</td>\n",
       "      <td>...</td>\n",
       "      <td>...</td>\n",
       "      <td>...</td>\n",
       "    </tr>\n",
       "    <tr>\n",
       "      <th>2995</th>\n",
       "      <td>False</td>\n",
       "      <td>False</td>\n",
       "      <td>False</td>\n",
       "      <td>False</td>\n",
       "      <td>False</td>\n",
       "      <td>False</td>\n",
       "      <td>False</td>\n",
       "    </tr>\n",
       "    <tr>\n",
       "      <th>2996</th>\n",
       "      <td>False</td>\n",
       "      <td>False</td>\n",
       "      <td>False</td>\n",
       "      <td>False</td>\n",
       "      <td>False</td>\n",
       "      <td>False</td>\n",
       "      <td>False</td>\n",
       "    </tr>\n",
       "    <tr>\n",
       "      <th>2997</th>\n",
       "      <td>False</td>\n",
       "      <td>False</td>\n",
       "      <td>False</td>\n",
       "      <td>False</td>\n",
       "      <td>False</td>\n",
       "      <td>False</td>\n",
       "      <td>False</td>\n",
       "    </tr>\n",
       "    <tr>\n",
       "      <th>2998</th>\n",
       "      <td>False</td>\n",
       "      <td>False</td>\n",
       "      <td>False</td>\n",
       "      <td>False</td>\n",
       "      <td>False</td>\n",
       "      <td>False</td>\n",
       "      <td>False</td>\n",
       "    </tr>\n",
       "    <tr>\n",
       "      <th>2999</th>\n",
       "      <td>False</td>\n",
       "      <td>False</td>\n",
       "      <td>False</td>\n",
       "      <td>False</td>\n",
       "      <td>False</td>\n",
       "      <td>False</td>\n",
       "      <td>False</td>\n",
       "    </tr>\n",
       "  </tbody>\n",
       "</table>\n",
       "<p>3000 rows × 7 columns</p>\n",
       "</div>"
      ],
      "text/plain": [
       "       Year  Quarter  GDP_Growth  Inflation  Industrial_Production  \\\n",
       "0     False    False       False      False                  False   \n",
       "1     False    False       False      False                  False   \n",
       "2     False    False       False      False                  False   \n",
       "3     False    False       False      False                  False   \n",
       "4     False    False       False      False                  False   \n",
       "...     ...      ...         ...        ...                    ...   \n",
       "2995  False    False       False      False                  False   \n",
       "2996  False    False       False      False                  False   \n",
       "2997  False    False       False      False                  False   \n",
       "2998  False    False       False      False                  False   \n",
       "2999  False    False       False      False                  False   \n",
       "\n",
       "      Job_Market  Recession_Indicator  \n",
       "0          False                False  \n",
       "1          False                False  \n",
       "2          False                False  \n",
       "3          False                False  \n",
       "4          False                False  \n",
       "...          ...                  ...  \n",
       "2995       False                False  \n",
       "2996       False                False  \n",
       "2997       False                False  \n",
       "2998       False                False  \n",
       "2999       False                False  \n",
       "\n",
       "[3000 rows x 7 columns]"
      ]
     },
     "execution_count": 3,
     "metadata": {},
     "output_type": "execute_result"
    }
   ],
   "source": [
    "data.isnull()"
   ]
  },
  {
   "cell_type": "code",
   "execution_count": 4,
   "metadata": {},
   "outputs": [
    {
     "data": {
      "text/plain": [
       "Year                     0\n",
       "Quarter                  0\n",
       "GDP_Growth               0\n",
       "Inflation                0\n",
       "Industrial_Production    0\n",
       "Job_Market               0\n",
       "Recession_Indicator      0\n",
       "dtype: int64"
      ]
     },
     "execution_count": 4,
     "metadata": {},
     "output_type": "execute_result"
    }
   ],
   "source": [
    "data.isnull().sum()"
   ]
  },
  {
   "cell_type": "markdown",
   "metadata": {},
   "source": [
    "#### Clearly Visible , there is no null , so our data is cleaned then proceeding to select features and target"
   ]
  },
  {
   "cell_type": "markdown",
   "metadata": {},
   "source": [
    "#### Let's transform Quarter character values into integer for numerical data"
   ]
  },
  {
   "cell_type": "code",
   "execution_count": 6,
   "metadata": {},
   "outputs": [],
   "source": [
    "X = data[['Year','Quarter','GDP_Growth','Inflation', 'Industrial_Production', 'Job_Market']]"
   ]
  },
  {
   "cell_type": "code",
   "execution_count": 7,
   "metadata": {},
   "outputs": [],
   "source": [
    "y = data['Recession_Indicator']"
   ]
  },
  {
   "cell_type": "code",
   "execution_count": 8,
   "metadata": {},
   "outputs": [
    {
     "data": {
      "text/html": [
       "<div>\n",
       "<style scoped>\n",
       "    .dataframe tbody tr th:only-of-type {\n",
       "        vertical-align: middle;\n",
       "    }\n",
       "\n",
       "    .dataframe tbody tr th {\n",
       "        vertical-align: top;\n",
       "    }\n",
       "\n",
       "    .dataframe thead th {\n",
       "        text-align: right;\n",
       "    }\n",
       "</style>\n",
       "<table border=\"1\" class=\"dataframe\">\n",
       "  <thead>\n",
       "    <tr style=\"text-align: right;\">\n",
       "      <th></th>\n",
       "      <th>Year</th>\n",
       "      <th>Quarter</th>\n",
       "      <th>GDP_Growth</th>\n",
       "      <th>Inflation</th>\n",
       "      <th>Industrial_Production</th>\n",
       "      <th>Job_Market</th>\n",
       "    </tr>\n",
       "  </thead>\n",
       "  <tbody>\n",
       "    <tr>\n",
       "      <th>0</th>\n",
       "      <td>2016</td>\n",
       "      <td>Q1</td>\n",
       "      <td>3.866202</td>\n",
       "      <td>5.795522</td>\n",
       "      <td>4.063915</td>\n",
       "      <td>72806</td>\n",
       "    </tr>\n",
       "    <tr>\n",
       "      <th>1</th>\n",
       "      <td>2013</td>\n",
       "      <td>Q1</td>\n",
       "      <td>6.624839</td>\n",
       "      <td>4.008880</td>\n",
       "      <td>0.301156</td>\n",
       "      <td>51465</td>\n",
       "    </tr>\n",
       "    <tr>\n",
       "      <th>2</th>\n",
       "      <td>2022</td>\n",
       "      <td>Q4</td>\n",
       "      <td>3.469627</td>\n",
       "      <td>6.322668</td>\n",
       "      <td>-3.622371</td>\n",
       "      <td>64109</td>\n",
       "    </tr>\n",
       "    <tr>\n",
       "      <th>3</th>\n",
       "      <td>2020</td>\n",
       "      <td>Q3</td>\n",
       "      <td>3.907552</td>\n",
       "      <td>1.415962</td>\n",
       "      <td>-1.309438</td>\n",
       "      <td>53528</td>\n",
       "    </tr>\n",
       "    <tr>\n",
       "      <th>4</th>\n",
       "      <td>2017</td>\n",
       "      <td>Q4</td>\n",
       "      <td>1.586789</td>\n",
       "      <td>1.885589</td>\n",
       "      <td>2.220974</td>\n",
       "      <td>39230</td>\n",
       "    </tr>\n",
       "    <tr>\n",
       "      <th>...</th>\n",
       "      <td>...</td>\n",
       "      <td>...</td>\n",
       "      <td>...</td>\n",
       "      <td>...</td>\n",
       "      <td>...</td>\n",
       "      <td>...</td>\n",
       "    </tr>\n",
       "    <tr>\n",
       "      <th>2995</th>\n",
       "      <td>2021</td>\n",
       "      <td>Q1</td>\n",
       "      <td>3.154164</td>\n",
       "      <td>12.653804</td>\n",
       "      <td>0.783076</td>\n",
       "      <td>43332</td>\n",
       "    </tr>\n",
       "    <tr>\n",
       "      <th>2996</th>\n",
       "      <td>2020</td>\n",
       "      <td>Q3</td>\n",
       "      <td>6.825993</td>\n",
       "      <td>2.673752</td>\n",
       "      <td>2.006138</td>\n",
       "      <td>10066</td>\n",
       "    </tr>\n",
       "    <tr>\n",
       "      <th>2997</th>\n",
       "      <td>2017</td>\n",
       "      <td>Q4</td>\n",
       "      <td>8.714885</td>\n",
       "      <td>13.569079</td>\n",
       "      <td>1.546320</td>\n",
       "      <td>42313</td>\n",
       "    </tr>\n",
       "    <tr>\n",
       "      <th>2998</th>\n",
       "      <td>2011</td>\n",
       "      <td>Q4</td>\n",
       "      <td>2.374860</td>\n",
       "      <td>5.110002</td>\n",
       "      <td>-4.509416</td>\n",
       "      <td>70857</td>\n",
       "    </tr>\n",
       "    <tr>\n",
       "      <th>2999</th>\n",
       "      <td>2015</td>\n",
       "      <td>Q1</td>\n",
       "      <td>9.789196</td>\n",
       "      <td>5.656680</td>\n",
       "      <td>-3.963961</td>\n",
       "      <td>48900</td>\n",
       "    </tr>\n",
       "  </tbody>\n",
       "</table>\n",
       "<p>3000 rows × 6 columns</p>\n",
       "</div>"
      ],
      "text/plain": [
       "      Year Quarter  GDP_Growth  Inflation  Industrial_Production  Job_Market\n",
       "0     2016      Q1    3.866202   5.795522               4.063915       72806\n",
       "1     2013      Q1    6.624839   4.008880               0.301156       51465\n",
       "2     2022      Q4    3.469627   6.322668              -3.622371       64109\n",
       "3     2020      Q3    3.907552   1.415962              -1.309438       53528\n",
       "4     2017      Q4    1.586789   1.885589               2.220974       39230\n",
       "...    ...     ...         ...        ...                    ...         ...\n",
       "2995  2021      Q1    3.154164  12.653804               0.783076       43332\n",
       "2996  2020      Q3    6.825993   2.673752               2.006138       10066\n",
       "2997  2017      Q4    8.714885  13.569079               1.546320       42313\n",
       "2998  2011      Q4    2.374860   5.110002              -4.509416       70857\n",
       "2999  2015      Q1    9.789196   5.656680              -3.963961       48900\n",
       "\n",
       "[3000 rows x 6 columns]"
      ]
     },
     "execution_count": 8,
     "metadata": {},
     "output_type": "execute_result"
    }
   ],
   "source": [
    "X"
   ]
  },
  {
   "cell_type": "code",
   "execution_count": 9,
   "metadata": {},
   "outputs": [
    {
     "data": {
      "text/plain": [
       "0       0\n",
       "1       0\n",
       "2       0\n",
       "3       1\n",
       "4       0\n",
       "       ..\n",
       "2995    1\n",
       "2996    1\n",
       "2997    0\n",
       "2998    0\n",
       "2999    0\n",
       "Name: Recession_Indicator, Length: 3000, dtype: int64"
      ]
     },
     "execution_count": 9,
     "metadata": {},
     "output_type": "execute_result"
    }
   ],
   "source": [
    "y"
   ]
  },
  {
   "cell_type": "code",
   "execution_count": 14,
   "metadata": {},
   "outputs": [],
   "source": [
    "import matplotlib.pyplot as plt"
   ]
  },
  {
   "cell_type": "markdown",
   "metadata": {},
   "source": [
    "### GDP Growth over time\n"
   ]
  },
  {
   "cell_type": "code",
   "execution_count": 17,
   "metadata": {},
   "outputs": [],
   "source": [
    "df=data"
   ]
  },
  {
   "cell_type": "code",
   "execution_count": 26,
   "metadata": {},
   "outputs": [
    {
     "data": {
      "image/png": "[encoded data removed]",
      "text/plain": [
       "<Figure size 800x600 with 1 Axes>"
      ]
     },
     "metadata": {},
     "output_type": "display_data"
    }
   ],
   "source": [
    "# Histogram for GDP Growth\n",
    "plt.figure(figsize=(8, 6))\n",
    "plt.hist(df['GDP_Growth'], bins=10, color='skyblue', edgecolor='black')\n",
    "plt.title('Histogram of GDP Growth')\n",
    "plt.xlabel('GDP Growth (%)')\n",
    "plt.ylabel('Frequency')\n",
    "plt.grid(True)\n",
    "plt.show()\n"
   ]
  },
  {
   "cell_type": "code",
   "execution_count": null,
   "metadata": {},
   "outputs": [],
   "source": [
    "# Histogram for Inflation\n",
    "plt.figure(figsize=(8, 6))\n",
    "plt.hist(df['Inflation'], bins=10, color='salmon', edgecolor='black')\n",
    "plt.title('Histogram of Inflation')\n",
    "plt.xlabel('Inflation (%)')\n",
    "plt.ylabel('Frequency')\n",
    "plt.grid(True)\n",
    "plt.show()"
   ]
  }
 ],
 "metadata": {
  "kernelspec": {
   "display_name": "Python 3",
   "language": "python",
   "name": "python3"
  },
  "language_info": {
   "codemirror_mode": {
    "name": "ipython",
    "version": 3
   },
   "file_extension": ".py",
   "mimetype": "text/x-python",
   "name": "python",
   "nbconvert_exporter": "python",
   "pygments_lexer": "ipython3",
   "version": "3.10.13"
  }
 },
 "nbformat": 4,
 "nbformat_minor": 2
}
